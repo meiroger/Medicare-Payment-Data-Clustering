{
 "cells": [
  {
   "cell_type": "markdown",
   "metadata": {},
   "source": [
    "# Partitioning Illinois to find best locations to build a For-Profit Hospital"
   ]
  },
  {
   "cell_type": "code",
   "execution_count": 1,
   "metadata": {},
   "outputs": [],
   "source": [
    "import pandas as pd\n",
    "import numpy as np\n",
    "import matplotlib.pyplot as plt\n",
    "from sklearn.preprocessing import LabelEncoder\n",
    "from sklearn.preprocessing import OneHotEncoder\n",
    "from sklearn.preprocessing import scale\n",
    "from sklearn.preprocessing import StandardScaler\n",
    "from sklearn.cluster import KMeans\n",
    "from sklearn.metrics import silhouette_score"
   ]
  },
  {
   "cell_type": "code",
   "execution_count": 2,
   "metadata": {},
   "outputs": [],
   "source": [
    "path = \"./Medicare-Physician-and-Other-Supplier-PUF/Medicare_Provider_Util_Payment_PUF_CY2016.txt\"\n",
    "data = pd.read_csv(path,sep='\\t',low_memory=False)"
   ]
  },
  {
   "cell_type": "markdown",
   "metadata": {},
   "source": [
    "Previewing original dataset:"
   ]
  },
  {
   "cell_type": "code",
   "execution_count": 5,
   "metadata": {},
   "outputs": [
    {
     "data": {
      "text/html": [
       "<div>\n",
       "<style scoped>\n",
       "    .dataframe tbody tr th:only-of-type {\n",
       "        vertical-align: middle;\n",
       "    }\n",
       "\n",
       "    .dataframe tbody tr th {\n",
       "        vertical-align: top;\n",
       "    }\n",
       "\n",
       "    .dataframe thead th {\n",
       "        text-align: right;\n",
       "    }\n",
       "</style>\n",
       "<table border=\"1\" class=\"dataframe\">\n",
       "  <thead>\n",
       "    <tr style=\"text-align: right;\">\n",
       "      <th></th>\n",
       "      <th>NPI</th>\n",
       "      <th>NPPES_PROVIDER_LAST_ORG_NAME</th>\n",
       "      <th>NPPES_PROVIDER_FIRST_NAME</th>\n",
       "      <th>NPPES_PROVIDER_MI</th>\n",
       "      <th>NPPES_CREDENTIALS</th>\n",
       "      <th>NPPES_PROVIDER_GENDER</th>\n",
       "      <th>NPPES_ENTITY_CODE</th>\n",
       "      <th>NPPES_PROVIDER_STREET1</th>\n",
       "      <th>NPPES_PROVIDER_STREET2</th>\n",
       "      <th>NPPES_PROVIDER_CITY</th>\n",
       "      <th>NPPES_PROVIDER_ZIP</th>\n",
       "      <th>NPPES_PROVIDER_STATE</th>\n",
       "      <th>NPPES_PROVIDER_COUNTRY</th>\n",
       "      <th>PROVIDER_TYPE</th>\n",
       "      <th>MEDICARE_PARTICIPATION_INDICATOR</th>\n",
       "      <th>PLACE_OF_SERVICE</th>\n",
       "      <th>HCPCS_CODE</th>\n",
       "      <th>HCPCS_DESCRIPTION</th>\n",
       "      <th>HCPCS_DRUG_INDICATOR</th>\n",
       "      <th>LINE_SRVC_CNT</th>\n",
       "      <th>BENE_UNIQUE_CNT</th>\n",
       "      <th>BENE_DAY_SRVC_CNT</th>\n",
       "      <th>AVERAGE_MEDICARE_ALLOWED_AMT</th>\n",
       "      <th>AVERAGE_SUBMITTED_CHRG_AMT</th>\n",
       "      <th>AVERAGE_MEDICARE_PAYMENT_AMT</th>\n",
       "      <th>AVERAGE_MEDICARE_STANDARD_AMT</th>\n",
       "    </tr>\n",
       "  </thead>\n",
       "  <tbody>\n",
       "    <tr>\n",
       "      <th>0</th>\n",
       "      <td>1</td>\n",
       "      <td>CPT copyright 2015 American Medical Associatio...</td>\n",
       "      <td>NaN</td>\n",
       "      <td>NaN</td>\n",
       "      <td>NaN</td>\n",
       "      <td>NaN</td>\n",
       "      <td>NaN</td>\n",
       "      <td>NaN</td>\n",
       "      <td>NaN</td>\n",
       "      <td>NaN</td>\n",
       "      <td>NaN</td>\n",
       "      <td>NaN</td>\n",
       "      <td>NaN</td>\n",
       "      <td>NaN</td>\n",
       "      <td>NaN</td>\n",
       "      <td>NaN</td>\n",
       "      <td>NaN</td>\n",
       "      <td>NaN</td>\n",
       "      <td>NaN</td>\n",
       "      <td>NaN</td>\n",
       "      <td>NaN</td>\n",
       "      <td>NaN</td>\n",
       "      <td>NaN</td>\n",
       "      <td>NaN</td>\n",
       "      <td>NaN</td>\n",
       "      <td>NaN</td>\n",
       "    </tr>\n",
       "    <tr>\n",
       "      <th>1</th>\n",
       "      <td>1003000126</td>\n",
       "      <td>ENKESHAFI</td>\n",
       "      <td>ARDALAN</td>\n",
       "      <td>NaN</td>\n",
       "      <td>M.D.</td>\n",
       "      <td>M</td>\n",
       "      <td>I</td>\n",
       "      <td>900 SETON DR</td>\n",
       "      <td>NaN</td>\n",
       "      <td>CUMBERLAND</td>\n",
       "      <td>215021854</td>\n",
       "      <td>MD</td>\n",
       "      <td>US</td>\n",
       "      <td>Internal Medicine</td>\n",
       "      <td>Y</td>\n",
       "      <td>F</td>\n",
       "      <td>99217</td>\n",
       "      <td>Hospital observation care discharge</td>\n",
       "      <td>N</td>\n",
       "      <td>57.0</td>\n",
       "      <td>55.0</td>\n",
       "      <td>57.0</td>\n",
       "      <td>72.743158</td>\n",
       "      <td>325.157895</td>\n",
       "      <td>54.474386</td>\n",
       "      <td>55.807193</td>\n",
       "    </tr>\n",
       "    <tr>\n",
       "      <th>2</th>\n",
       "      <td>1003000126</td>\n",
       "      <td>ENKESHAFI</td>\n",
       "      <td>ARDALAN</td>\n",
       "      <td>NaN</td>\n",
       "      <td>M.D.</td>\n",
       "      <td>M</td>\n",
       "      <td>I</td>\n",
       "      <td>900 SETON DR</td>\n",
       "      <td>NaN</td>\n",
       "      <td>CUMBERLAND</td>\n",
       "      <td>215021854</td>\n",
       "      <td>MD</td>\n",
       "      <td>US</td>\n",
       "      <td>Internal Medicine</td>\n",
       "      <td>Y</td>\n",
       "      <td>F</td>\n",
       "      <td>99219</td>\n",
       "      <td>Hospital observation care typically 50 minutes</td>\n",
       "      <td>N</td>\n",
       "      <td>38.0</td>\n",
       "      <td>38.0</td>\n",
       "      <td>38.0</td>\n",
       "      <td>135.010000</td>\n",
       "      <td>614.000000</td>\n",
       "      <td>105.850000</td>\n",
       "      <td>107.230000</td>\n",
       "    </tr>\n",
       "    <tr>\n",
       "      <th>3</th>\n",
       "      <td>1003000126</td>\n",
       "      <td>ENKESHAFI</td>\n",
       "      <td>ARDALAN</td>\n",
       "      <td>NaN</td>\n",
       "      <td>M.D.</td>\n",
       "      <td>M</td>\n",
       "      <td>I</td>\n",
       "      <td>900 SETON DR</td>\n",
       "      <td>NaN</td>\n",
       "      <td>CUMBERLAND</td>\n",
       "      <td>215021854</td>\n",
       "      <td>MD</td>\n",
       "      <td>US</td>\n",
       "      <td>Internal Medicine</td>\n",
       "      <td>Y</td>\n",
       "      <td>F</td>\n",
       "      <td>99220</td>\n",
       "      <td>Hospital observation care typically 70 minutes...</td>\n",
       "      <td>N</td>\n",
       "      <td>23.0</td>\n",
       "      <td>23.0</td>\n",
       "      <td>23.0</td>\n",
       "      <td>189.239565</td>\n",
       "      <td>769.347826</td>\n",
       "      <td>146.116522</td>\n",
       "      <td>144.278696</td>\n",
       "    </tr>\n",
       "    <tr>\n",
       "      <th>4</th>\n",
       "      <td>1003000126</td>\n",
       "      <td>ENKESHAFI</td>\n",
       "      <td>ARDALAN</td>\n",
       "      <td>NaN</td>\n",
       "      <td>M.D.</td>\n",
       "      <td>M</td>\n",
       "      <td>I</td>\n",
       "      <td>900 SETON DR</td>\n",
       "      <td>NaN</td>\n",
       "      <td>CUMBERLAND</td>\n",
       "      <td>215021854</td>\n",
       "      <td>MD</td>\n",
       "      <td>US</td>\n",
       "      <td>Internal Medicine</td>\n",
       "      <td>Y</td>\n",
       "      <td>F</td>\n",
       "      <td>99221</td>\n",
       "      <td>Initial hospital inpatient care, typically 30 ...</td>\n",
       "      <td>N</td>\n",
       "      <td>20.0</td>\n",
       "      <td>20.0</td>\n",
       "      <td>20.0</td>\n",
       "      <td>100.750000</td>\n",
       "      <td>460.000000</td>\n",
       "      <td>78.990000</td>\n",
       "      <td>80.280000</td>\n",
       "    </tr>\n",
       "  </tbody>\n",
       "</table>\n",
       "</div>"
      ],
      "text/plain": [
       "          NPI              ...              AVERAGE_MEDICARE_STANDARD_AMT\n",
       "0           1              ...                                        NaN\n",
       "1  1003000126              ...                                  55.807193\n",
       "2  1003000126              ...                                 107.230000\n",
       "3  1003000126              ...                                 144.278696\n",
       "4  1003000126              ...                                  80.280000\n",
       "\n",
       "[5 rows x 26 columns]"
      ]
     },
     "execution_count": 5,
     "metadata": {},
     "output_type": "execute_result"
    }
   ],
   "source": [
    "pd.set_option('display.max_columns', 0)\n",
    "data.head()"
   ]
  },
  {
   "cell_type": "markdown",
   "metadata": {},
   "source": [
    "Looking at only Illinois data:"
   ]
  },
  {
   "cell_type": "code",
   "execution_count": 3,
   "metadata": {},
   "outputs": [],
   "source": [
    "illinois_data = data.loc[data['NPPES_PROVIDER_STATE'] == 'IL']"
   ]
  },
  {
   "cell_type": "markdown",
   "metadata": {},
   "source": [
    "Looking at only the providers that accept Medicare as payment:"
   ]
  },
  {
   "cell_type": "code",
   "execution_count": 4,
   "metadata": {},
   "outputs": [],
   "source": [
    "illinois_data = illinois_data.loc[illinois_data['MEDICARE_PARTICIPATION_INDICATOR'] == 'Y']"
   ]
  },
  {
   "cell_type": "markdown",
   "metadata": {},
   "source": [
    "The 'NPPES_PROVIDER_STATE' column is dropped since every value is 'IL' now.\n",
    "'NPPES_PROVIDER_COUNTRY' column is dropped since every value is 'US'.\n",
    "\n",
    "'MEDICARE_PARTICIPATION_INDICATOR' column is dropped since every value is 'Y' now.\n",
    "\n",
    "Also manually dropping columns that have no relevance to business question:"
   ]
  },
  {
   "cell_type": "markdown",
   "metadata": {},
   "source": [
    "'NPI','NPPES_PROVIDER_LAST_ORG_NAME','NPPES_PROVIDER_FIRST_NAME','NPPES_PROVIDER_MI','NPPES_CREDENTIALS','NPPES_PROVIDER_GENDER','NPPES_PROVIDER_STREET1','NPPES_PROVIDER_STREET2','NPPES_PROVIDER_STREET1','NPPES_PROVIDER_STREET2' - name and identifiers of provider does not matter\n",
    "\n",
    "'NPPES_PROVIDER_CITY' - using 3 digit zip as better metric for location\n",
    "\n",
    "'NPPES_ENTITY_CODE','PROVIDER_TYPE','PLACE_OF_SERVICE' - does not matter as we are focused on costs and payments\n",
    "\n",
    "'HCPCS_CODE','HCPCS_DESCRIPTION','HCPCS_DRUG_INDICATOR' - HCPCS code does not matter in deciding where to build a hospital based on costs and payments"
   ]
  },
  {
   "cell_type": "code",
   "execution_count": 5,
   "metadata": {},
   "outputs": [],
   "source": [
    "illinois_data = illinois_data.drop(columns=['NPI', 'NPPES_PROVIDER_LAST_ORG_NAME','NPPES_PROVIDER_FIRST_NAME','NPPES_PROVIDER_MI','NPPES_CREDENTIALS','NPPES_PROVIDER_GENDER','NPPES_ENTITY_CODE','NPPES_PROVIDER_STREET1','NPPES_PROVIDER_STREET2','NPPES_PROVIDER_CITY','NPPES_PROVIDER_STATE','NPPES_PROVIDER_COUNTRY','PROVIDER_TYPE','MEDICARE_PARTICIPATION_INDICATOR','PLACE_OF_SERVICE','HCPCS_CODE','HCPCS_DESCRIPTION','HCPCS_DRUG_INDICATOR'])"
   ]
  },
  {
   "cell_type": "markdown",
   "metadata": {},
   "source": [
    "Cutting down zip code to first 3 digits:"
   ]
  },
  {
   "cell_type": "code",
   "execution_count": 6,
   "metadata": {},
   "outputs": [],
   "source": [
    "illinois_data.NPPES_PROVIDER_ZIP = illinois_data.NPPES_PROVIDER_ZIP.str[:3]"
   ]
  },
  {
   "cell_type": "markdown",
   "metadata": {},
   "source": [
    "Looking at multicollinearity and removing features that are highly correlated:"
   ]
  },
  {
   "cell_type": "code",
   "execution_count": 301,
   "metadata": {},
   "outputs": [
    {
     "data": {
      "text/plain": [
       "array([[<matplotlib.axes._subplots.AxesSubplot object at 0x1ab34f27f0>,\n",
       "        <matplotlib.axes._subplots.AxesSubplot object at 0x1a3249f278>,\n",
       "        <matplotlib.axes._subplots.AxesSubplot object at 0x1a324b95f8>,\n",
       "        <matplotlib.axes._subplots.AxesSubplot object at 0x1a324d3b70>,\n",
       "        <matplotlib.axes._subplots.AxesSubplot object at 0x1aae69f128>,\n",
       "        <matplotlib.axes._subplots.AxesSubplot object at 0x1aae6c46a0>,\n",
       "        <matplotlib.axes._subplots.AxesSubplot object at 0x1aae6eac18>],\n",
       "       [<matplotlib.axes._subplots.AxesSubplot object at 0x1aae718208>,\n",
       "        <matplotlib.axes._subplots.AxesSubplot object at 0x1aae718240>,\n",
       "        <matplotlib.axes._subplots.AxesSubplot object at 0x1aae766cc0>,\n",
       "        <matplotlib.axes._subplots.AxesSubplot object at 0x1aae796278>,\n",
       "        <matplotlib.axes._subplots.AxesSubplot object at 0x1aae7bd7f0>,\n",
       "        <matplotlib.axes._subplots.AxesSubplot object at 0x1aae7e2d68>,\n",
       "        <matplotlib.axes._subplots.AxesSubplot object at 0x1aae812320>],\n",
       "       [<matplotlib.axes._subplots.AxesSubplot object at 0x1aae839898>,\n",
       "        <matplotlib.axes._subplots.AxesSubplot object at 0x1aae861e10>,\n",
       "        <matplotlib.axes._subplots.AxesSubplot object at 0x1aae8913c8>,\n",
       "        <matplotlib.axes._subplots.AxesSubplot object at 0x1aae8b8940>,\n",
       "        <matplotlib.axes._subplots.AxesSubplot object at 0x1aae8e0eb8>,\n",
       "        <matplotlib.axes._subplots.AxesSubplot object at 0x1aaed54470>,\n",
       "        <matplotlib.axes._subplots.AxesSubplot object at 0x1aaed7b9e8>],\n",
       "       [<matplotlib.axes._subplots.AxesSubplot object at 0x1aaeda3f60>,\n",
       "        <matplotlib.axes._subplots.AxesSubplot object at 0x1aaedd6518>,\n",
       "        <matplotlib.axes._subplots.AxesSubplot object at 0x1aaf221a90>,\n",
       "        <matplotlib.axes._subplots.AxesSubplot object at 0x1aaf253048>,\n",
       "        <matplotlib.axes._subplots.AxesSubplot object at 0x1aaf2795c0>,\n",
       "        <matplotlib.axes._subplots.AxesSubplot object at 0x1aaf2a1b38>,\n",
       "        <matplotlib.axes._subplots.AxesSubplot object at 0x1aaf2d50f0>],\n",
       "       [<matplotlib.axes._subplots.AxesSubplot object at 0x1aaf2fb668>,\n",
       "        <matplotlib.axes._subplots.AxesSubplot object at 0x1aaf325be0>,\n",
       "        <matplotlib.axes._subplots.AxesSubplot object at 0x1aaf357198>,\n",
       "        <matplotlib.axes._subplots.AxesSubplot object at 0x1aaf37b710>,\n",
       "        <matplotlib.axes._subplots.AxesSubplot object at 0x1aaf3a4c88>,\n",
       "        <matplotlib.axes._subplots.AxesSubplot object at 0x1aaf3d4240>,\n",
       "        <matplotlib.axes._subplots.AxesSubplot object at 0x1aaf3fb7b8>],\n",
       "       [<matplotlib.axes._subplots.AxesSubplot object at 0x1aaf425d30>,\n",
       "        <matplotlib.axes._subplots.AxesSubplot object at 0x1aaf4552e8>,\n",
       "        <matplotlib.axes._subplots.AxesSubplot object at 0x1aaf47d860>,\n",
       "        <matplotlib.axes._subplots.AxesSubplot object at 0x1aaf4a7dd8>,\n",
       "        <matplotlib.axes._subplots.AxesSubplot object at 0x1aaf4d8390>,\n",
       "        <matplotlib.axes._subplots.AxesSubplot object at 0x1aaf4ff908>,\n",
       "        <matplotlib.axes._subplots.AxesSubplot object at 0x1aaf997e80>],\n",
       "       [<matplotlib.axes._subplots.AxesSubplot object at 0x1aaf9c8438>,\n",
       "        <matplotlib.axes._subplots.AxesSubplot object at 0x1a23c1a588>,\n",
       "        <matplotlib.axes._subplots.AxesSubplot object at 0x1ab1024cc0>,\n",
       "        <matplotlib.axes._subplots.AxesSubplot object at 0x1ab1052b00>,\n",
       "        <matplotlib.axes._subplots.AxesSubplot object at 0x1a27e47278>,\n",
       "        <matplotlib.axes._subplots.AxesSubplot object at 0x1ab0bcf4a8>,\n",
       "        <matplotlib.axes._subplots.AxesSubplot object at 0x1aaf0b16a0>]],\n",
       "      dtype=object)"
      ]
     },
     "execution_count": 301,
     "metadata": {},
     "output_type": "execute_result"
    },
    {
     "data": {
      "image/png": "[encoded data removed]",
      "text/plain": [
       "<Figure size 1008x576 with 49 Axes>"
      ]
     },
     "metadata": {
      "needs_background": "light"
     },
     "output_type": "display_data"
    }
   ],
   "source": [
    "pd.plotting.scatter_matrix(illinois_data,figsize=(14,8))"
   ]
  },
  {
   "cell_type": "code",
   "execution_count": 302,
   "metadata": {},
   "outputs": [
    {
     "data": {
      "text/html": [
       "<div>\n",
       "<style scoped>\n",
       "    .dataframe tbody tr th:only-of-type {\n",
       "        vertical-align: middle;\n",
       "    }\n",
       "\n",
       "    .dataframe tbody tr th {\n",
       "        vertical-align: top;\n",
       "    }\n",
       "\n",
       "    .dataframe thead th {\n",
       "        text-align: right;\n",
       "    }\n",
       "</style>\n",
       "<table border=\"1\" class=\"dataframe\">\n",
       "  <thead>\n",
       "    <tr style=\"text-align: right;\">\n",
       "      <th></th>\n",
       "      <th>LINE_SRVC_CNT</th>\n",
       "      <th>BENE_UNIQUE_CNT</th>\n",
       "      <th>BENE_DAY_SRVC_CNT</th>\n",
       "      <th>AVERAGE_MEDICARE_ALLOWED_AMT</th>\n",
       "      <th>AVERAGE_SUBMITTED_CHRG_AMT</th>\n",
       "      <th>AVERAGE_MEDICARE_PAYMENT_AMT</th>\n",
       "      <th>AVERAGE_MEDICARE_STANDARD_AMT</th>\n",
       "    </tr>\n",
       "  </thead>\n",
       "  <tbody>\n",
       "    <tr>\n",
       "      <th>LINE_SRVC_CNT</th>\n",
       "      <td>1.000000</td>\n",
       "      <td>0.364902</td>\n",
       "      <td>0.458561</td>\n",
       "      <td>-0.014412</td>\n",
       "      <td>-0.013478</td>\n",
       "      <td>-0.014199</td>\n",
       "      <td>-0.013961</td>\n",
       "    </tr>\n",
       "    <tr>\n",
       "      <th>BENE_UNIQUE_CNT</th>\n",
       "      <td>0.364902</td>\n",
       "      <td>1.000000</td>\n",
       "      <td>0.945993</td>\n",
       "      <td>-0.010431</td>\n",
       "      <td>-0.012063</td>\n",
       "      <td>-0.010333</td>\n",
       "      <td>-0.010088</td>\n",
       "    </tr>\n",
       "    <tr>\n",
       "      <th>BENE_DAY_SRVC_CNT</th>\n",
       "      <td>0.458561</td>\n",
       "      <td>0.945993</td>\n",
       "      <td>1.000000</td>\n",
       "      <td>-0.013585</td>\n",
       "      <td>-0.016074</td>\n",
       "      <td>-0.013565</td>\n",
       "      <td>-0.013200</td>\n",
       "    </tr>\n",
       "    <tr>\n",
       "      <th>AVERAGE_MEDICARE_ALLOWED_AMT</th>\n",
       "      <td>-0.014412</td>\n",
       "      <td>-0.010431</td>\n",
       "      <td>-0.013585</td>\n",
       "      <td>1.000000</td>\n",
       "      <td>0.759006</td>\n",
       "      <td>0.998709</td>\n",
       "      <td>0.996288</td>\n",
       "    </tr>\n",
       "    <tr>\n",
       "      <th>AVERAGE_SUBMITTED_CHRG_AMT</th>\n",
       "      <td>-0.013478</td>\n",
       "      <td>-0.012063</td>\n",
       "      <td>-0.016074</td>\n",
       "      <td>0.759006</td>\n",
       "      <td>1.000000</td>\n",
       "      <td>0.758804</td>\n",
       "      <td>0.745292</td>\n",
       "    </tr>\n",
       "    <tr>\n",
       "      <th>AVERAGE_MEDICARE_PAYMENT_AMT</th>\n",
       "      <td>-0.014199</td>\n",
       "      <td>-0.010333</td>\n",
       "      <td>-0.013565</td>\n",
       "      <td>0.998709</td>\n",
       "      <td>0.758804</td>\n",
       "      <td>1.000000</td>\n",
       "      <td>0.996854</td>\n",
       "    </tr>\n",
       "    <tr>\n",
       "      <th>AVERAGE_MEDICARE_STANDARD_AMT</th>\n",
       "      <td>-0.013961</td>\n",
       "      <td>-0.010088</td>\n",
       "      <td>-0.013200</td>\n",
       "      <td>0.996288</td>\n",
       "      <td>0.745292</td>\n",
       "      <td>0.996854</td>\n",
       "      <td>1.000000</td>\n",
       "    </tr>\n",
       "  </tbody>\n",
       "</table>\n",
       "</div>"
      ],
      "text/plain": [
       "                               LINE_SRVC_CNT              ...                AVERAGE_MEDICARE_STANDARD_AMT\n",
       "LINE_SRVC_CNT                       1.000000              ...                                    -0.013961\n",
       "BENE_UNIQUE_CNT                     0.364902              ...                                    -0.010088\n",
       "BENE_DAY_SRVC_CNT                   0.458561              ...                                    -0.013200\n",
       "AVERAGE_MEDICARE_ALLOWED_AMT       -0.014412              ...                                     0.996288\n",
       "AVERAGE_SUBMITTED_CHRG_AMT         -0.013478              ...                                     0.745292\n",
       "AVERAGE_MEDICARE_PAYMENT_AMT       -0.014199              ...                                     0.996854\n",
       "AVERAGE_MEDICARE_STANDARD_AMT      -0.013961              ...                                     1.000000\n",
       "\n",
       "[7 rows x 7 columns]"
      ]
     },
     "execution_count": 302,
     "metadata": {},
     "output_type": "execute_result"
    }
   ],
   "source": [
    "illinois_data.corr()"
   ]
  },
  {
   "cell_type": "markdown",
   "metadata": {},
   "source": [
    "'BENE_UNIQUE_CNT' has high correlation with 'BENE_DAY_SRVC_CNT'. 'BENE_DAY_SRVC_CNT' is kept since it removes double-counting of the similar services on the same day as well as describes the daily rates of service and not simply the total count.\n",
    "\n",
    "Because the features \"AVERAGE_MEDICARE_ALLOWED_AMT\", \"AVERAGE_MEDICARE_PAYMENT_AMT\", and \"AVERAGE_MEDICARE_STANDARD_AMT\" have high correlations, two of these features can be removed. \n",
    "\n",
    "\"AVERAGE_MEDICARE_STANDARD_AMT\" is simply the standardized data of \"AVERAGE_MEDICARE_PAYMENT_AMT\" with geographical differences in payment rates removed. \n",
    "\n",
    "Both features \"AVERAGE_MEDICARE_PAYMENT_AMT\" and \"AVERAGE_MEDICARE_STANDARD_AMT\" don't include what the beneficiary is paying for and are thus removed. The feature \"AVERAGE_MEDICARE_ALLOWED_AMT\" is kept to explore what Medicare pays, including deductible and coinsurance amounts that the beneficiary is responsible for paying."
   ]
  },
  {
   "cell_type": "code",
   "execution_count": 7,
   "metadata": {},
   "outputs": [],
   "source": [
    "illinois_data = illinois_data.drop(columns=['BENE_UNIQUE_CNT','AVERAGE_MEDICARE_STANDARD_AMT','AVERAGE_MEDICARE_PAYMENT_AMT'])"
   ]
  },
  {
   "cell_type": "markdown",
   "metadata": {},
   "source": [
    "Histogram of numerical features:"
   ]
  },
  {
   "cell_type": "code",
   "execution_count": 8,
   "metadata": {},
   "outputs": [
    {
     "data": {
      "image/png": "[encoded data removed]",
      "text/plain": [
       "<Figure size 432x288 with 4 Axes>"
      ]
     },
     "metadata": {
      "needs_background": "light"
     },
     "output_type": "display_data"
    }
   ],
   "source": [
    "hist = illinois_data.hist(bins=50)"
   ]
  },
  {
   "cell_type": "markdown",
   "metadata": {},
   "source": [
    "Log transforming data:"
   ]
  },
  {
   "cell_type": "code",
   "execution_count": 8,
   "metadata": {},
   "outputs": [],
   "source": [
    "illinois_data['LINE_SRVC_CNT'] = np.log(illinois_data['LINE_SRVC_CNT'])\n",
    "illinois_data['BENE_DAY_SRVC_CNT'] = np.log(illinois_data['BENE_DAY_SRVC_CNT'])\n",
    "illinois_data['AVERAGE_SUBMITTED_CHRG_AMT'] = np.log(illinois_data['AVERAGE_SUBMITTED_CHRG_AMT'])\n",
    "illinois_data['AVERAGE_MEDICARE_ALLOWED_AMT'] = np.log(illinois_data['AVERAGE_MEDICARE_ALLOWED_AMT'])"
   ]
  },
  {
   "cell_type": "markdown",
   "metadata": {},
   "source": [
    "After log transformation, some features which had a skewed distribution became more normally distributed and are more spread out."
   ]
  },
  {
   "cell_type": "code",
   "execution_count": 10,
   "metadata": {},
   "outputs": [
    {
     "data": {
      "image/png": "[encoded data removed]",
      "text/plain": [
       "<Figure size 432x288 with 4 Axes>"
      ]
     },
     "metadata": {
      "needs_background": "light"
     },
     "output_type": "display_data"
    }
   ],
   "source": [
    "hist = illinois_data.hist(bins=50)"
   ]
  },
  {
   "cell_type": "markdown",
   "metadata": {},
   "source": [
    "One hot encoding:"
   ]
  },
  {
   "cell_type": "code",
   "execution_count": 9,
   "metadata": {},
   "outputs": [],
   "source": [
    "# categorical features\n",
    "cat_features = ['NPPES_PROVIDER_ZIP']\n",
    "df_processed = pd.get_dummies(illinois_data, prefix_sep=\"__\",columns=cat_features)"
   ]
  },
  {
   "cell_type": "code",
   "execution_count": 12,
   "metadata": {},
   "outputs": [
    {
     "data": {
      "text/html": [
       "<div>\n",
       "<style scoped>\n",
       "    .dataframe tbody tr th:only-of-type {\n",
       "        vertical-align: middle;\n",
       "    }\n",
       "\n",
       "    .dataframe tbody tr th {\n",
       "        vertical-align: top;\n",
       "    }\n",
       "\n",
       "    .dataframe thead th {\n",
       "        text-align: right;\n",
       "    }\n",
       "</style>\n",
       "<table border=\"1\" class=\"dataframe\">\n",
       "  <thead>\n",
       "    <tr style=\"text-align: right;\">\n",
       "      <th></th>\n",
       "      <th>LINE_SRVC_CNT</th>\n",
       "      <th>BENE_DAY_SRVC_CNT</th>\n",
       "      <th>AVERAGE_MEDICARE_ALLOWED_AMT</th>\n",
       "      <th>AVERAGE_SUBMITTED_CHRG_AMT</th>\n",
       "      <th>NPPES_PROVIDER_ZIP__006</th>\n",
       "      <th>NPPES_PROVIDER_ZIP__061</th>\n",
       "      <th>NPPES_PROVIDER_ZIP__104</th>\n",
       "      <th>NPPES_PROVIDER_ZIP__322</th>\n",
       "      <th>NPPES_PROVIDER_ZIP__461</th>\n",
       "      <th>NPPES_PROVIDER_ZIP__463</th>\n",
       "      <th>...</th>\n",
       "      <th>NPPES_PROVIDER_ZIP__625</th>\n",
       "      <th>NPPES_PROVIDER_ZIP__626</th>\n",
       "      <th>NPPES_PROVIDER_ZIP__627</th>\n",
       "      <th>NPPES_PROVIDER_ZIP__628</th>\n",
       "      <th>NPPES_PROVIDER_ZIP__629</th>\n",
       "      <th>NPPES_PROVIDER_ZIP__631</th>\n",
       "      <th>NPPES_PROVIDER_ZIP__640</th>\n",
       "      <th>NPPES_PROVIDER_ZIP__681</th>\n",
       "      <th>NPPES_PROVIDER_ZIP__717</th>\n",
       "      <th>NPPES_PROVIDER_ZIP__900</th>\n",
       "    </tr>\n",
       "  </thead>\n",
       "  <tbody>\n",
       "    <tr>\n",
       "      <th>13</th>\n",
       "      <td>5.389072</td>\n",
       "      <td>5.267858</td>\n",
       "      <td>2.520917</td>\n",
       "      <td>4.744932</td>\n",
       "      <td>0</td>\n",
       "      <td>0</td>\n",
       "      <td>0</td>\n",
       "      <td>0</td>\n",
       "      <td>0</td>\n",
       "      <td>0</td>\n",
       "      <td>...</td>\n",
       "      <td>0</td>\n",
       "      <td>0</td>\n",
       "      <td>0</td>\n",
       "      <td>0</td>\n",
       "      <td>0</td>\n",
       "      <td>0</td>\n",
       "      <td>0</td>\n",
       "      <td>0</td>\n",
       "      <td>0</td>\n",
       "      <td>0</td>\n",
       "    </tr>\n",
       "    <tr>\n",
       "      <th>14</th>\n",
       "      <td>8.829812</td>\n",
       "      <td>8.495356</td>\n",
       "      <td>3.722066</td>\n",
       "      <td>5.135798</td>\n",
       "      <td>0</td>\n",
       "      <td>0</td>\n",
       "      <td>0</td>\n",
       "      <td>0</td>\n",
       "      <td>0</td>\n",
       "      <td>0</td>\n",
       "      <td>...</td>\n",
       "      <td>0</td>\n",
       "      <td>0</td>\n",
       "      <td>0</td>\n",
       "      <td>0</td>\n",
       "      <td>0</td>\n",
       "      <td>0</td>\n",
       "      <td>0</td>\n",
       "      <td>0</td>\n",
       "      <td>0</td>\n",
       "      <td>0</td>\n",
       "    </tr>\n",
       "    <tr>\n",
       "      <th>15</th>\n",
       "      <td>6.042633</td>\n",
       "      <td>5.645447</td>\n",
       "      <td>3.376876</td>\n",
       "      <td>4.477337</td>\n",
       "      <td>0</td>\n",
       "      <td>0</td>\n",
       "      <td>0</td>\n",
       "      <td>0</td>\n",
       "      <td>0</td>\n",
       "      <td>0</td>\n",
       "      <td>...</td>\n",
       "      <td>0</td>\n",
       "      <td>0</td>\n",
       "      <td>0</td>\n",
       "      <td>0</td>\n",
       "      <td>0</td>\n",
       "      <td>0</td>\n",
       "      <td>0</td>\n",
       "      <td>0</td>\n",
       "      <td>0</td>\n",
       "      <td>0</td>\n",
       "    </tr>\n",
       "    <tr>\n",
       "      <th>16</th>\n",
       "      <td>4.158883</td>\n",
       "      <td>4.025352</td>\n",
       "      <td>2.577942</td>\n",
       "      <td>4.219508</td>\n",
       "      <td>0</td>\n",
       "      <td>0</td>\n",
       "      <td>0</td>\n",
       "      <td>0</td>\n",
       "      <td>0</td>\n",
       "      <td>0</td>\n",
       "      <td>...</td>\n",
       "      <td>0</td>\n",
       "      <td>0</td>\n",
       "      <td>0</td>\n",
       "      <td>0</td>\n",
       "      <td>0</td>\n",
       "      <td>0</td>\n",
       "      <td>0</td>\n",
       "      <td>0</td>\n",
       "      <td>0</td>\n",
       "      <td>0</td>\n",
       "    </tr>\n",
       "    <tr>\n",
       "      <th>17</th>\n",
       "      <td>3.583519</td>\n",
       "      <td>3.583519</td>\n",
       "      <td>4.527749</td>\n",
       "      <td>5.609472</td>\n",
       "      <td>0</td>\n",
       "      <td>0</td>\n",
       "      <td>0</td>\n",
       "      <td>0</td>\n",
       "      <td>0</td>\n",
       "      <td>0</td>\n",
       "      <td>...</td>\n",
       "      <td>0</td>\n",
       "      <td>0</td>\n",
       "      <td>0</td>\n",
       "      <td>0</td>\n",
       "      <td>0</td>\n",
       "      <td>0</td>\n",
       "      <td>0</td>\n",
       "      <td>0</td>\n",
       "      <td>0</td>\n",
       "      <td>0</td>\n",
       "    </tr>\n",
       "  </tbody>\n",
       "</table>\n",
       "<p>5 rows × 49 columns</p>\n",
       "</div>"
      ],
      "text/plain": [
       "    LINE_SRVC_CNT  BENE_DAY_SRVC_CNT  AVERAGE_MEDICARE_ALLOWED_AMT  \\\n",
       "13       5.389072           5.267858                      2.520917   \n",
       "14       8.829812           8.495356                      3.722066   \n",
       "15       6.042633           5.645447                      3.376876   \n",
       "16       4.158883           4.025352                      2.577942   \n",
       "17       3.583519           3.583519                      4.527749   \n",
       "\n",
       "    AVERAGE_SUBMITTED_CHRG_AMT  NPPES_PROVIDER_ZIP__006  \\\n",
       "13                    4.744932                        0   \n",
       "14                    5.135798                        0   \n",
       "15                    4.477337                        0   \n",
       "16                    4.219508                        0   \n",
       "17                    5.609472                        0   \n",
       "\n",
       "    NPPES_PROVIDER_ZIP__061  NPPES_PROVIDER_ZIP__104  NPPES_PROVIDER_ZIP__322  \\\n",
       "13                        0                        0                        0   \n",
       "14                        0                        0                        0   \n",
       "15                        0                        0                        0   \n",
       "16                        0                        0                        0   \n",
       "17                        0                        0                        0   \n",
       "\n",
       "    NPPES_PROVIDER_ZIP__461  NPPES_PROVIDER_ZIP__463           ...             \\\n",
       "13                        0                        0           ...              \n",
       "14                        0                        0           ...              \n",
       "15                        0                        0           ...              \n",
       "16                        0                        0           ...              \n",
       "17                        0                        0           ...              \n",
       "\n",
       "    NPPES_PROVIDER_ZIP__625  NPPES_PROVIDER_ZIP__626  NPPES_PROVIDER_ZIP__627  \\\n",
       "13                        0                        0                        0   \n",
       "14                        0                        0                        0   \n",
       "15                        0                        0                        0   \n",
       "16                        0                        0                        0   \n",
       "17                        0                        0                        0   \n",
       "\n",
       "    NPPES_PROVIDER_ZIP__628  NPPES_PROVIDER_ZIP__629  NPPES_PROVIDER_ZIP__631  \\\n",
       "13                        0                        0                        0   \n",
       "14                        0                        0                        0   \n",
       "15                        0                        0                        0   \n",
       "16                        0                        0                        0   \n",
       "17                        0                        0                        0   \n",
       "\n",
       "    NPPES_PROVIDER_ZIP__640  NPPES_PROVIDER_ZIP__681  NPPES_PROVIDER_ZIP__717  \\\n",
       "13                        0                        0                        0   \n",
       "14                        0                        0                        0   \n",
       "15                        0                        0                        0   \n",
       "16                        0                        0                        0   \n",
       "17                        0                        0                        0   \n",
       "\n",
       "    NPPES_PROVIDER_ZIP__900  \n",
       "13                        0  \n",
       "14                        0  \n",
       "15                        0  \n",
       "16                        0  \n",
       "17                        0  \n",
       "\n",
       "[5 rows x 49 columns]"
      ]
     },
     "execution_count": 12,
     "metadata": {},
     "output_type": "execute_result"
    }
   ],
   "source": [
    "df_processed.head()"
   ]
  },
  {
   "cell_type": "code",
   "execution_count": 13,
   "metadata": {},
   "outputs": [
    {
     "name": "stdout",
     "output_type": "stream",
     "text": [
      "<class 'pandas.core.frame.DataFrame'>\n",
      "Int64Index: 393123 entries, 13 to 9714490\n",
      "Data columns (total 49 columns):\n",
      "LINE_SRVC_CNT                   393123 non-null float64\n",
      "BENE_DAY_SRVC_CNT               393123 non-null float64\n",
      "AVERAGE_MEDICARE_ALLOWED_AMT    393123 non-null float64\n",
      "AVERAGE_SUBMITTED_CHRG_AMT      393123 non-null float64\n",
      "NPPES_PROVIDER_ZIP__006         393123 non-null uint8\n",
      "NPPES_PROVIDER_ZIP__061         393123 non-null uint8\n",
      "NPPES_PROVIDER_ZIP__104         393123 non-null uint8\n",
      "NPPES_PROVIDER_ZIP__322         393123 non-null uint8\n",
      "NPPES_PROVIDER_ZIP__461         393123 non-null uint8\n",
      "NPPES_PROVIDER_ZIP__463         393123 non-null uint8\n",
      "NPPES_PROVIDER_ZIP__465         393123 non-null uint8\n",
      "NPPES_PROVIDER_ZIP__472         393123 non-null uint8\n",
      "NPPES_PROVIDER_ZIP__501         393123 non-null uint8\n",
      "NPPES_PROVIDER_ZIP__512         393123 non-null uint8\n",
      "NPPES_PROVIDER_ZIP__523         393123 non-null uint8\n",
      "NPPES_PROVIDER_ZIP__600         393123 non-null uint8\n",
      "NPPES_PROVIDER_ZIP__601         393123 non-null uint8\n",
      "NPPES_PROVIDER_ZIP__602         393123 non-null uint8\n",
      "NPPES_PROVIDER_ZIP__603         393123 non-null uint8\n",
      "NPPES_PROVIDER_ZIP__604         393123 non-null uint8\n",
      "NPPES_PROVIDER_ZIP__605         393123 non-null uint8\n",
      "NPPES_PROVIDER_ZIP__606         393123 non-null uint8\n",
      "NPPES_PROVIDER_ZIP__607         393123 non-null uint8\n",
      "NPPES_PROVIDER_ZIP__608         393123 non-null uint8\n",
      "NPPES_PROVIDER_ZIP__609         393123 non-null uint8\n",
      "NPPES_PROVIDER_ZIP__610         393123 non-null uint8\n",
      "NPPES_PROVIDER_ZIP__611         393123 non-null uint8\n",
      "NPPES_PROVIDER_ZIP__612         393123 non-null uint8\n",
      "NPPES_PROVIDER_ZIP__613         393123 non-null uint8\n",
      "NPPES_PROVIDER_ZIP__614         393123 non-null uint8\n",
      "NPPES_PROVIDER_ZIP__615         393123 non-null uint8\n",
      "NPPES_PROVIDER_ZIP__616         393123 non-null uint8\n",
      "NPPES_PROVIDER_ZIP__617         393123 non-null uint8\n",
      "NPPES_PROVIDER_ZIP__618         393123 non-null uint8\n",
      "NPPES_PROVIDER_ZIP__619         393123 non-null uint8\n",
      "NPPES_PROVIDER_ZIP__620         393123 non-null uint8\n",
      "NPPES_PROVIDER_ZIP__622         393123 non-null uint8\n",
      "NPPES_PROVIDER_ZIP__623         393123 non-null uint8\n",
      "NPPES_PROVIDER_ZIP__624         393123 non-null uint8\n",
      "NPPES_PROVIDER_ZIP__625         393123 non-null uint8\n",
      "NPPES_PROVIDER_ZIP__626         393123 non-null uint8\n",
      "NPPES_PROVIDER_ZIP__627         393123 non-null uint8\n",
      "NPPES_PROVIDER_ZIP__628         393123 non-null uint8\n",
      "NPPES_PROVIDER_ZIP__629         393123 non-null uint8\n",
      "NPPES_PROVIDER_ZIP__631         393123 non-null uint8\n",
      "NPPES_PROVIDER_ZIP__640         393123 non-null uint8\n",
      "NPPES_PROVIDER_ZIP__681         393123 non-null uint8\n",
      "NPPES_PROVIDER_ZIP__717         393123 non-null uint8\n",
      "NPPES_PROVIDER_ZIP__900         393123 non-null uint8\n",
      "dtypes: float64(4), uint8(45)\n",
      "memory usage: 31.9 MB\n"
     ]
    }
   ],
   "source": [
    "df_processed.info()"
   ]
  },
  {
   "cell_type": "markdown",
   "metadata": {},
   "source": [
    "Normalizing:"
   ]
  },
  {
   "cell_type": "code",
   "execution_count": 10,
   "metadata": {},
   "outputs": [
    {
     "name": "stderr",
     "output_type": "stream",
     "text": [
      "/anaconda3/lib/python3.7/site-packages/sklearn/preprocessing/data.py:625: DataConversionWarning: Data with input dtype uint8, float64 were all converted to float64 by StandardScaler.\n",
      "  return self.partial_fit(X, y)\n",
      "/anaconda3/lib/python3.7/site-packages/sklearn/base.py:462: DataConversionWarning: Data with input dtype uint8, float64 were all converted to float64 by StandardScaler.\n",
      "  return self.fit(X, **fit_params).transform(X)\n"
     ]
    }
   ],
   "source": [
    "ss = StandardScaler()\n",
    "df_scaled = pd.DataFrame(ss.fit_transform(df_processed),columns = df_processed.columns)"
   ]
  },
  {
   "cell_type": "code",
   "execution_count": 15,
   "metadata": {},
   "outputs": [
    {
     "data": {
      "text/html": [
       "<div>\n",
       "<style scoped>\n",
       "    .dataframe tbody tr th:only-of-type {\n",
       "        vertical-align: middle;\n",
       "    }\n",
       "\n",
       "    .dataframe tbody tr th {\n",
       "        vertical-align: top;\n",
       "    }\n",
       "\n",
       "    .dataframe thead th {\n",
       "        text-align: right;\n",
       "    }\n",
       "</style>\n",
       "<table border=\"1\" class=\"dataframe\">\n",
       "  <thead>\n",
       "    <tr style=\"text-align: right;\">\n",
       "      <th></th>\n",
       "      <th>LINE_SRVC_CNT</th>\n",
       "      <th>BENE_DAY_SRVC_CNT</th>\n",
       "      <th>AVERAGE_MEDICARE_ALLOWED_AMT</th>\n",
       "      <th>AVERAGE_SUBMITTED_CHRG_AMT</th>\n",
       "      <th>NPPES_PROVIDER_ZIP__006</th>\n",
       "      <th>NPPES_PROVIDER_ZIP__061</th>\n",
       "      <th>NPPES_PROVIDER_ZIP__104</th>\n",
       "      <th>NPPES_PROVIDER_ZIP__322</th>\n",
       "      <th>NPPES_PROVIDER_ZIP__461</th>\n",
       "      <th>NPPES_PROVIDER_ZIP__463</th>\n",
       "      <th>...</th>\n",
       "      <th>NPPES_PROVIDER_ZIP__625</th>\n",
       "      <th>NPPES_PROVIDER_ZIP__626</th>\n",
       "      <th>NPPES_PROVIDER_ZIP__627</th>\n",
       "      <th>NPPES_PROVIDER_ZIP__628</th>\n",
       "      <th>NPPES_PROVIDER_ZIP__629</th>\n",
       "      <th>NPPES_PROVIDER_ZIP__631</th>\n",
       "      <th>NPPES_PROVIDER_ZIP__640</th>\n",
       "      <th>NPPES_PROVIDER_ZIP__681</th>\n",
       "      <th>NPPES_PROVIDER_ZIP__717</th>\n",
       "      <th>NPPES_PROVIDER_ZIP__900</th>\n",
       "    </tr>\n",
       "  </thead>\n",
       "  <tbody>\n",
       "    <tr>\n",
       "      <th>0</th>\n",
       "      <td>1.055026</td>\n",
       "      <td>1.100539</td>\n",
       "      <td>-1.136739</td>\n",
       "      <td>-0.223866</td>\n",
       "      <td>-0.005525</td>\n",
       "      <td>-0.004511</td>\n",
       "      <td>-0.002762</td>\n",
       "      <td>-0.003907</td>\n",
       "      <td>-0.00319</td>\n",
       "      <td>-0.00422</td>\n",
       "      <td>...</td>\n",
       "      <td>-0.118336</td>\n",
       "      <td>-0.057756</td>\n",
       "      <td>-0.209759</td>\n",
       "      <td>-0.106183</td>\n",
       "      <td>-0.127186</td>\n",
       "      <td>-0.00422</td>\n",
       "      <td>-0.002762</td>\n",
       "      <td>-0.005968</td>\n",
       "      <td>-0.004511</td>\n",
       "      <td>-0.002256</td>\n",
       "    </tr>\n",
       "    <tr>\n",
       "      <th>1</th>\n",
       "      <td>3.782908</td>\n",
       "      <td>3.850955</td>\n",
       "      <td>-0.179990</td>\n",
       "      <td>0.084118</td>\n",
       "      <td>-0.005525</td>\n",
       "      <td>-0.004511</td>\n",
       "      <td>-0.002762</td>\n",
       "      <td>-0.003907</td>\n",
       "      <td>-0.00319</td>\n",
       "      <td>-0.00422</td>\n",
       "      <td>...</td>\n",
       "      <td>-0.118336</td>\n",
       "      <td>-0.057756</td>\n",
       "      <td>-0.209759</td>\n",
       "      <td>-0.106183</td>\n",
       "      <td>-0.127186</td>\n",
       "      <td>-0.00422</td>\n",
       "      <td>-0.002762</td>\n",
       "      <td>-0.005968</td>\n",
       "      <td>-0.004511</td>\n",
       "      <td>-0.002256</td>\n",
       "    </tr>\n",
       "    <tr>\n",
       "      <th>2</th>\n",
       "      <td>1.573182</td>\n",
       "      <td>1.422313</td>\n",
       "      <td>-0.454944</td>\n",
       "      <td>-0.434719</td>\n",
       "      <td>-0.005525</td>\n",
       "      <td>-0.004511</td>\n",
       "      <td>-0.002762</td>\n",
       "      <td>-0.003907</td>\n",
       "      <td>-0.00319</td>\n",
       "      <td>-0.00422</td>\n",
       "      <td>...</td>\n",
       "      <td>-0.118336</td>\n",
       "      <td>-0.057756</td>\n",
       "      <td>-0.209759</td>\n",
       "      <td>-0.106183</td>\n",
       "      <td>-0.127186</td>\n",
       "      <td>-0.00422</td>\n",
       "      <td>-0.002762</td>\n",
       "      <td>-0.005968</td>\n",
       "      <td>-0.004511</td>\n",
       "      <td>-0.002256</td>\n",
       "    </tr>\n",
       "    <tr>\n",
       "      <th>3</th>\n",
       "      <td>0.079710</td>\n",
       "      <td>0.041697</td>\n",
       "      <td>-1.091318</td>\n",
       "      <td>-0.637877</td>\n",
       "      <td>-0.005525</td>\n",
       "      <td>-0.004511</td>\n",
       "      <td>-0.002762</td>\n",
       "      <td>-0.003907</td>\n",
       "      <td>-0.00319</td>\n",
       "      <td>-0.00422</td>\n",
       "      <td>...</td>\n",
       "      <td>-0.118336</td>\n",
       "      <td>-0.057756</td>\n",
       "      <td>-0.209759</td>\n",
       "      <td>-0.106183</td>\n",
       "      <td>-0.127186</td>\n",
       "      <td>-0.00422</td>\n",
       "      <td>-0.002762</td>\n",
       "      <td>-0.005968</td>\n",
       "      <td>-0.004511</td>\n",
       "      <td>-0.002256</td>\n",
       "    </tr>\n",
       "    <tr>\n",
       "      <th>4</th>\n",
       "      <td>-0.376449</td>\n",
       "      <td>-0.334825</td>\n",
       "      <td>0.461759</td>\n",
       "      <td>0.457351</td>\n",
       "      <td>-0.005525</td>\n",
       "      <td>-0.004511</td>\n",
       "      <td>-0.002762</td>\n",
       "      <td>-0.003907</td>\n",
       "      <td>-0.00319</td>\n",
       "      <td>-0.00422</td>\n",
       "      <td>...</td>\n",
       "      <td>-0.118336</td>\n",
       "      <td>-0.057756</td>\n",
       "      <td>-0.209759</td>\n",
       "      <td>-0.106183</td>\n",
       "      <td>-0.127186</td>\n",
       "      <td>-0.00422</td>\n",
       "      <td>-0.002762</td>\n",
       "      <td>-0.005968</td>\n",
       "      <td>-0.004511</td>\n",
       "      <td>-0.002256</td>\n",
       "    </tr>\n",
       "  </tbody>\n",
       "</table>\n",
       "<p>5 rows × 49 columns</p>\n",
       "</div>"
      ],
      "text/plain": [
       "   LINE_SRVC_CNT  BENE_DAY_SRVC_CNT  AVERAGE_MEDICARE_ALLOWED_AMT  \\\n",
       "0       1.055026           1.100539                     -1.136739   \n",
       "1       3.782908           3.850955                     -0.179990   \n",
       "2       1.573182           1.422313                     -0.454944   \n",
       "3       0.079710           0.041697                     -1.091318   \n",
       "4      -0.376449          -0.334825                      0.461759   \n",
       "\n",
       "   AVERAGE_SUBMITTED_CHRG_AMT  NPPES_PROVIDER_ZIP__006  \\\n",
       "0                   -0.223866                -0.005525   \n",
       "1                    0.084118                -0.005525   \n",
       "2                   -0.434719                -0.005525   \n",
       "3                   -0.637877                -0.005525   \n",
       "4                    0.457351                -0.005525   \n",
       "\n",
       "   NPPES_PROVIDER_ZIP__061  NPPES_PROVIDER_ZIP__104  NPPES_PROVIDER_ZIP__322  \\\n",
       "0                -0.004511                -0.002762                -0.003907   \n",
       "1                -0.004511                -0.002762                -0.003907   \n",
       "2                -0.004511                -0.002762                -0.003907   \n",
       "3                -0.004511                -0.002762                -0.003907   \n",
       "4                -0.004511                -0.002762                -0.003907   \n",
       "\n",
       "   NPPES_PROVIDER_ZIP__461  NPPES_PROVIDER_ZIP__463           ...             \\\n",
       "0                 -0.00319                 -0.00422           ...              \n",
       "1                 -0.00319                 -0.00422           ...              \n",
       "2                 -0.00319                 -0.00422           ...              \n",
       "3                 -0.00319                 -0.00422           ...              \n",
       "4                 -0.00319                 -0.00422           ...              \n",
       "\n",
       "   NPPES_PROVIDER_ZIP__625  NPPES_PROVIDER_ZIP__626  NPPES_PROVIDER_ZIP__627  \\\n",
       "0                -0.118336                -0.057756                -0.209759   \n",
       "1                -0.118336                -0.057756                -0.209759   \n",
       "2                -0.118336                -0.057756                -0.209759   \n",
       "3                -0.118336                -0.057756                -0.209759   \n",
       "4                -0.118336                -0.057756                -0.209759   \n",
       "\n",
       "   NPPES_PROVIDER_ZIP__628  NPPES_PROVIDER_ZIP__629  NPPES_PROVIDER_ZIP__631  \\\n",
       "0                -0.106183                -0.127186                 -0.00422   \n",
       "1                -0.106183                -0.127186                 -0.00422   \n",
       "2                -0.106183                -0.127186                 -0.00422   \n",
       "3                -0.106183                -0.127186                 -0.00422   \n",
       "4                -0.106183                -0.127186                 -0.00422   \n",
       "\n",
       "   NPPES_PROVIDER_ZIP__640  NPPES_PROVIDER_ZIP__681  NPPES_PROVIDER_ZIP__717  \\\n",
       "0                -0.002762                -0.005968                -0.004511   \n",
       "1                -0.002762                -0.005968                -0.004511   \n",
       "2                -0.002762                -0.005968                -0.004511   \n",
       "3                -0.002762                -0.005968                -0.004511   \n",
       "4                -0.002762                -0.005968                -0.004511   \n",
       "\n",
       "   NPPES_PROVIDER_ZIP__900  \n",
       "0                -0.002256  \n",
       "1                -0.002256  \n",
       "2                -0.002256  \n",
       "3                -0.002256  \n",
       "4                -0.002256  \n",
       "\n",
       "[5 rows x 49 columns]"
      ]
     },
     "execution_count": 15,
     "metadata": {},
     "output_type": "execute_result"
    }
   ],
   "source": [
    "df_scaled.head()"
   ]
  },
  {
   "cell_type": "markdown",
   "metadata": {},
   "source": [
    "# Main features for clustering:\n",
    "\n",
    "NPPES_PROVIDER_ZIP - zip code (location)\n",
    "\n",
    "LINE_SRVC_CNT - number of services (to see how the new hospital would compare)\n",
    "\n",
    "BENE_DAY_SRVC_CNT - services per day (how much business a certain organization is getting)\n",
    "\n",
    "AVERAGE_MEDICARE_ALLOWED_AMT - how much medicare pays including deductible and coinsurance\n",
    "\n",
    "AVERAGE_SUBMITTED_CHRG_AMT - how much provider charges"
   ]
  },
  {
   "cell_type": "markdown",
   "metadata": {},
   "source": [
    "Clustering:"
   ]
  },
  {
   "cell_type": "code",
   "execution_count": 17,
   "metadata": {},
   "outputs": [
    {
     "data": {
      "image/png": "[encoded data removed]",
      "text/plain": [
       "<Figure size 432x288 with 1 Axes>"
      ]
     },
     "metadata": {
      "needs_background": "light"
     },
     "output_type": "display_data"
    }
   ],
   "source": [
    "sse_test = {}\n",
    "for k in range(1, 40):\n",
    "    kmeans_test = KMeans(n_clusters=k, max_iter=300).fit(df_scaled)\n",
    "    #df_scaled[\"clusters\"] = kmeans.labels_\n",
    "    #print(data[\"clusters\"])\n",
    "    sse_test[k] = kmeans_test.inertia_ # Inertia: Sum of distances of samples to their closest cluster center\n",
    "plt.figure()\n",
    "plt.plot(list(sse_test.keys()), list(sse_test.values()))\n",
    "plt.xlabel(\"Number of cluster\")\n",
    "plt.ylabel(\"SSE\")\n",
    "plt.title(\"Scree Plot\")\n",
    "plt.show()"
   ]
  },
  {
   "cell_type": "code",
   "execution_count": 312,
   "metadata": {},
   "outputs": [
    {
     "data": {
      "image/png": "[encoded data removed]",
      "text/plain": [
       "<Figure size 432x288 with 1 Axes>"
      ]
     },
     "metadata": {
      "needs_background": "light"
     },
     "output_type": "display_data"
    }
   ],
   "source": [
    "sse = {}\n",
    "for k in range(1, 20):\n",
    "    kmeans = KMeans(n_clusters=k, max_iter=300).fit(df_scaled)\n",
    "    #df_scaled[\"clusters\"] = kmeans.labels_\n",
    "    #print(data[\"clusters\"])\n",
    "    sse[k] = kmeans.inertia_ # Inertia: Sum of distances of samples to their closest cluster center\n",
    "plt.figure()\n",
    "plt.plot(list(sse.keys()), list(sse.values()))\n",
    "plt.xlabel(\"Number of cluster\")\n",
    "plt.ylabel(\"SSE\")\n",
    "plt.title(\"Scree Plot\")\n",
    "plt.show()"
   ]
  },
  {
   "cell_type": "markdown",
   "metadata": {},
   "source": [
    "It seems as if the 'kink' in the scree plot is at number of clusters = 8. Numbers of clusters around 8 are explored further with silhouette scores:"
   ]
  },
  {
   "cell_type": "code",
   "execution_count": 313,
   "metadata": {},
   "outputs": [
    {
     "name": "stdout",
     "output_type": "stream",
     "text": [
      "For n_clusters =  8 , silhouette score is  0.2986319610530669\n",
      "For n_clusters =  9 , silhouette score is  0.2932941974630347\n",
      "For n_clusters =  10 , silhouette score is  0.33883439746536675\n",
      "For n_clusters =  11 , silhouette score is  0.34596988638480636\n"
     ]
    }
   ],
   "source": [
    "clusters = [8,9,10,11]\n",
    "centers = []\n",
    "for n_clusters in clusters:\n",
    "    kmeans = KMeans(n_clusters=n_clusters,max_iter=1000)\n",
    "    predictions = kmeans.fit_predict(df_scaled)\n",
    "    centers.append(kmeans.cluster_centers_)\n",
    "    score = silhouette_score(df_scaled,predictions,metric='euclidean')\n",
    "    print('For n_clusters = ', n_clusters ,', silhouette score is ',score)"
   ]
  },
  {
   "cell_type": "code",
   "execution_count": 330,
   "metadata": {},
   "outputs": [],
   "source": [
    "kmeans11 = KMeans(n_clusters=11,max_iter=1000)\n",
    "predictions11 = kmeans11.fit_predict(df_scaled)\n",
    "center = kmeans11.cluster_centers_"
   ]
  },
  {
   "cell_type": "markdown",
   "metadata": {},
   "source": [
    "Looking at centers:"
   ]
  },
  {
   "cell_type": "code",
   "execution_count": 348,
   "metadata": {},
   "outputs": [
    {
     "data": {
      "text/plain": [
       "(11, 49)"
      ]
     },
     "execution_count": 348,
     "metadata": {},
     "output_type": "execute_result"
    }
   ],
   "source": [
    "np.shape(center)"
   ]
  },
  {
   "cell_type": "code",
   "execution_count": 341,
   "metadata": {},
   "outputs": [
    {
     "data": {
      "text/plain": [
       "array([[ 1.24058799e-02,  2.43370779e-02,  4.15403115e-02,\n",
       "         3.27355300e-02, -5.52500945e-03, -4.51112837e-03,\n",
       "        -2.76247310e-03, -3.90674183e-03, -3.18983323e-03,\n",
       "        -4.21976883e-03, -4.21976883e-03, -9.83215152e-03,\n",
       "        -6.17717192e-03, -4.78478028e-03, -3.90674183e-03,\n",
       "        -4.21024585e-01,  2.72811988e+00, -1.30783239e-01,\n",
       "        -8.36701357e-02, -3.48381293e-01, -3.20084498e-01,\n",
       "        -4.80859404e-01, -8.28803695e-02, -9.04482870e-02,\n",
       "        -1.04367736e-01, -1.06391325e-01, -1.66924877e-01,\n",
       "        -1.30924015e-01, -8.84692055e-02, -8.26310870e-02,\n",
       "        -7.25788774e-02, -1.83365728e-01, -1.33503413e-01,\n",
       "        -1.50021023e-01, -8.03857581e-02, -1.19807790e-01,\n",
       "        -1.51652747e-01, -9.80312439e-02, -7.92723675e-02,\n",
       "        -1.18335590e-01, -5.77559472e-02, -2.09759111e-01,\n",
       "        -1.06183276e-01, -1.27185634e-01, -4.21976883e-03,\n",
       "        -2.76247310e-03, -5.96770744e-03, -4.51112837e-03,\n",
       "        -2.25554697e-03],\n",
       "       [ 4.79141555e-02,  5.70007422e-02,  5.10708815e-02,\n",
       "         1.63892185e-02, -5.52500945e-03,  3.71607075e-02,\n",
       "        -2.76247310e-03, -3.90674183e-03, -3.18983323e-03,\n",
       "        -4.21976883e-03, -4.21976883e-03, -9.83215152e-03,\n",
       "        -6.17717192e-03, -4.78478028e-03, -3.90674183e-03,\n",
       "        -4.21024585e-01, -3.66552807e-01, -1.30783239e-01,\n",
       "        -8.36701357e-02,  2.86981311e+00, -3.20084498e-01,\n",
       "        -4.80859404e-01, -8.28803695e-02, -9.04482870e-02,\n",
       "        -1.04367736e-01, -1.06391325e-01, -1.66924877e-01,\n",
       "        -1.30924015e-01, -8.84692055e-02, -8.26310870e-02,\n",
       "        -7.25788774e-02, -1.83365728e-01, -1.33503413e-01,\n",
       "        -1.50021023e-01, -8.03857581e-02, -1.19807790e-01,\n",
       "        -1.51652747e-01, -9.80312439e-02, -7.92723675e-02,\n",
       "        -1.18335590e-01, -5.77559472e-02, -2.09759111e-01,\n",
       "        -1.06183276e-01, -1.27185634e-01, -4.21976883e-03,\n",
       "        -2.76247310e-03, -5.96770744e-03, -4.51112837e-03,\n",
       "        -2.25554697e-03],\n",
       "       [-1.43229953e-03, -1.34172964e-02, -1.33198551e-01,\n",
       "        -1.01925448e-01, -5.52500945e-03, -4.51112837e-03,\n",
       "        -2.76247310e-03, -3.90674183e-03, -3.18983323e-03,\n",
       "        -4.21976883e-03, -4.21976883e-03, -9.83215152e-03,\n",
       "        -6.17717192e-03, -4.78478028e-03, -3.90674183e-03,\n",
       "        -4.21024585e-01, -3.66552807e-01, -1.30783239e-01,\n",
       "        -8.36701357e-02, -3.48381293e-01, -3.20084498e-01,\n",
       "        -4.80859404e-01, -8.28803695e-02, -9.04482870e-02,\n",
       "        -1.04367736e-01, -1.06391325e-01, -1.66924877e-01,\n",
       "        -1.30924015e-01, -8.84692055e-02, -8.26310870e-02,\n",
       "        -7.25788774e-02, -1.83365728e-01,  7.49044520e+00,\n",
       "        -1.50021023e-01, -8.03857581e-02, -1.19807790e-01,\n",
       "        -1.51652747e-01, -9.80312439e-02, -7.92723675e-02,\n",
       "        -1.18335590e-01, -5.77559472e-02, -2.09759111e-01,\n",
       "        -1.06183276e-01, -1.27185634e-01, -4.21976883e-03,\n",
       "        -2.76247310e-03, -5.96770744e-03, -4.51112837e-03,\n",
       "        -2.25554697e-03],\n",
       "       [ 7.14761341e-02,  7.52874343e-02,  2.31904805e-02,\n",
       "        -4.15825975e-02, -5.52500945e-03, -4.51112837e-03,\n",
       "         1.55714519e-02, -3.90674183e-03, -3.18983323e-03,\n",
       "        -4.21976883e-03, -4.21976883e-03,  5.54216706e-02,\n",
       "        -6.17717192e-03, -4.78478028e-03, -3.90674183e-03,\n",
       "         2.37322277e+00, -3.66552807e-01, -1.30783239e-01,\n",
       "        -8.36701357e-02, -3.48381293e-01, -3.20084498e-01,\n",
       "        -4.80859404e-01, -8.28803695e-02, -9.04482870e-02,\n",
       "        -1.04367736e-01, -1.06391325e-01, -1.66924877e-01,\n",
       "        -1.30924015e-01, -8.84692055e-02, -8.26310870e-02,\n",
       "        -7.25788774e-02, -1.83365728e-01, -1.33503413e-01,\n",
       "        -1.50021023e-01, -8.03857581e-02, -1.19807790e-01,\n",
       "        -1.51652747e-01, -9.80312439e-02, -7.92723675e-02,\n",
       "        -1.18335590e-01, -5.77559472e-02, -2.09759111e-01,\n",
       "        -1.06183276e-01, -1.27185634e-01, -4.21976883e-03,\n",
       "        -2.76247310e-03, -5.96770744e-03, -4.51112837e-03,\n",
       "        -2.25554697e-03],\n",
       "       [ 2.97777887e-02,  4.45672725e-02, -7.07767132e-02,\n",
       "        -1.19873506e-01, -5.52500945e-03, -4.51112837e-03,\n",
       "        -2.76247310e-03, -3.90674183e-03, -3.18983323e-03,\n",
       "        -4.21976883e-03, -4.21976883e-03, -9.83215152e-03,\n",
       "        -6.17717192e-03, -4.78478028e-03, -3.90674183e-03,\n",
       "        -4.21024585e-01, -3.66552807e-01, -1.30783239e-01,\n",
       "        -8.36701357e-02, -3.48381293e-01, -3.20084498e-01,\n",
       "        -4.80859404e-01, -8.28803695e-02, -9.04482870e-02,\n",
       "        -1.04367736e-01,  9.39926254e+00, -1.66924877e-01,\n",
       "        -1.30924015e-01, -8.84692055e-02, -8.26310870e-02,\n",
       "        -7.25788774e-02, -1.83365728e-01, -1.33503413e-01,\n",
       "        -1.50021023e-01, -8.03857581e-02, -1.19807790e-01,\n",
       "        -1.51652747e-01, -9.80312439e-02, -7.92723675e-02,\n",
       "        -1.18335590e-01, -5.77559472e-02, -2.09759111e-01,\n",
       "        -1.06183276e-01, -1.27185634e-01, -4.21976883e-03,\n",
       "        -2.76247310e-03, -5.96770744e-03, -4.51112837e-03,\n",
       "        -2.25554697e-03],\n",
       "       [-1.20890647e-01, -1.34837840e-01, -1.71506637e-01,\n",
       "        -1.47376920e-01, -5.52500945e-03, -4.51112837e-03,\n",
       "        -2.76247310e-03, -3.90674183e-03, -3.18983323e-03,\n",
       "        -4.21976883e-03, -4.21976883e-03, -9.83215152e-03,\n",
       "        -6.17717192e-03, -4.78478028e-03, -3.90674183e-03,\n",
       "        -4.21024585e-01, -3.66552807e-01, -1.30783239e-01,\n",
       "        -8.36701357e-02, -3.48381293e-01, -3.20084498e-01,\n",
       "        -4.80859404e-01, -8.28803695e-02, -9.04482870e-02,\n",
       "        -1.04367736e-01, -1.06391325e-01, -1.66924877e-01,\n",
       "        -1.30924015e-01, -8.84692055e-02, -8.26310870e-02,\n",
       "        -7.25788774e-02, -1.83365728e-01, -1.33503413e-01,\n",
       "        -1.50021023e-01, -8.03857581e-02, -1.19807790e-01,\n",
       "        -1.51652747e-01, -9.80312439e-02, -7.92723675e-02,\n",
       "        -1.18335590e-01, -5.77559472e-02,  4.76737337e+00,\n",
       "        -1.06183276e-01, -1.27185634e-01, -4.21976883e-03,\n",
       "        -2.76247310e-03, -5.96770744e-03, -4.51112837e-03,\n",
       "        -2.25554697e-03],\n",
       "       [-8.06087909e-02, -8.51166942e-02, -9.04681045e-03,\n",
       "         7.92024004e-02, -5.52500945e-03, -4.51112837e-03,\n",
       "        -2.76247310e-03, -3.90674183e-03, -3.18983323e-03,\n",
       "        -4.21976883e-03, -4.21976883e-03, -9.83215152e-03,\n",
       "        -6.17717192e-03, -4.78478028e-03, -3.90674183e-03,\n",
       "        -4.21024585e-01, -3.66552807e-01, -1.30783239e-01,\n",
       "        -8.36701357e-02, -3.48381293e-01, -3.20084498e-01,\n",
       "        -4.80859404e-01, -8.28803695e-02, -9.04482870e-02,\n",
       "        -1.04367736e-01, -1.06391325e-01,  5.99071879e+00,\n",
       "        -1.30924015e-01, -8.84692055e-02, -8.26310870e-02,\n",
       "        -7.25788774e-02, -1.83365728e-01, -1.33503413e-01,\n",
       "        -1.50021023e-01, -8.03857581e-02, -1.19807790e-01,\n",
       "        -1.51652747e-01, -9.80312439e-02, -7.92723675e-02,\n",
       "        -1.18335590e-01, -5.77559472e-02, -2.09759111e-01,\n",
       "        -1.06183276e-01, -1.27185634e-01, -4.21976883e-03,\n",
       "        -2.76247310e-03, -5.96770744e-03, -4.51112837e-03,\n",
       "        -2.25554697e-03],\n",
       "       [-6.78444829e-02, -6.61481321e-02,  8.11046490e-02,\n",
       "         1.10418686e-01, -5.52500945e-03, -4.51112837e-03,\n",
       "        -2.76247310e-03, -3.90674183e-03, -3.18983323e-03,\n",
       "        -4.21976883e-03, -4.21976883e-03, -9.83215152e-03,\n",
       "        -6.17717192e-03, -4.78478028e-03,  1.68940988e-02,\n",
       "        -4.21024585e-01, -3.66552807e-01, -1.30783239e-01,\n",
       "        -8.36701357e-02, -3.48381293e-01, -3.20084498e-01,\n",
       "         2.07940188e+00, -8.28803695e-02, -9.04482870e-02,\n",
       "        -1.04367736e-01, -1.06391325e-01, -1.66924877e-01,\n",
       "        -1.30924015e-01, -8.84692055e-02, -8.26310870e-02,\n",
       "        -7.25788774e-02, -1.83365728e-01, -1.33503413e-01,\n",
       "        -1.50021023e-01, -8.03857581e-02, -1.19807790e-01,\n",
       "        -1.51652747e-01, -9.80312439e-02, -7.92723675e-02,\n",
       "        -1.18335590e-01, -5.77559472e-02, -2.09759111e-01,\n",
       "        -1.06183276e-01, -1.27185634e-01, -4.21976883e-03,\n",
       "        -2.76247310e-03, -5.96770744e-03, -4.51112837e-03,\n",
       "        -2.25554697e-03],\n",
       "       [-1.10084435e-01, -9.36545544e-02,  9.97342094e-02,\n",
       "         1.09843008e-01, -5.52500945e-03, -4.51112837e-03,\n",
       "        -2.76247310e-03, -3.90674183e-03, -3.18983323e-03,\n",
       "        -4.21976883e-03, -4.21976883e-03, -9.83215152e-03,\n",
       "        -6.17717192e-03, -4.78478028e-03, -3.90674183e-03,\n",
       "        -4.21024585e-01, -3.66552807e-01,  7.64623977e+00,\n",
       "        -8.36701357e-02, -3.48381293e-01, -3.20084498e-01,\n",
       "        -4.80859404e-01, -8.28803695e-02, -9.04482870e-02,\n",
       "        -1.04367736e-01, -1.06391325e-01, -1.66924877e-01,\n",
       "        -1.30924015e-01, -8.84692055e-02, -8.26310870e-02,\n",
       "        -7.25788774e-02, -1.83365728e-01, -1.33503413e-01,\n",
       "        -1.50021023e-01, -8.03857581e-02, -1.19807790e-01,\n",
       "        -1.51652747e-01, -9.80312439e-02, -7.92723675e-02,\n",
       "        -1.18335590e-01, -5.77559472e-02, -2.09759111e-01,\n",
       "        -1.06183276e-01, -1.27185634e-01, -4.21976883e-03,\n",
       "        -2.76247310e-03, -5.96770744e-03, -4.51112837e-03,\n",
       "        -2.25554697e-03],\n",
       "       [-1.34580170e-02,  8.46699231e-04, -8.12750972e-02,\n",
       "        -1.99114521e-01, -5.52500945e-03, -4.51112837e-03,\n",
       "        -2.76247310e-03, -3.90674183e-03, -3.18983323e-03,\n",
       "        -4.21976883e-03, -4.21976883e-03, -9.83215152e-03,\n",
       "        -6.17717192e-03, -4.78478028e-03, -3.90674183e-03,\n",
       "        -4.21024585e-01, -3.66552807e-01, -1.30783239e-01,\n",
       "        -8.36701357e-02, -3.48381293e-01, -3.20084498e-01,\n",
       "        -4.80859404e-01, -8.28803695e-02, -9.04482870e-02,\n",
       "        -1.04367736e-01, -1.06391325e-01, -1.66924877e-01,\n",
       "        -1.30924015e-01, -8.84692055e-02, -8.26310870e-02,\n",
       "        -7.25788774e-02, -1.83365728e-01, -1.33503413e-01,\n",
       "        -1.50021023e-01, -8.03857581e-02,  8.34670268e+00,\n",
       "        -1.51652747e-01, -9.80312439e-02, -7.92723675e-02,\n",
       "        -1.18335590e-01, -5.77559472e-02, -2.09759111e-01,\n",
       "        -1.06183276e-01, -1.27185634e-01, -4.21976883e-03,\n",
       "        -2.76247310e-03, -5.96770744e-03, -4.51112837e-03,\n",
       "        -2.25554697e-03],\n",
       "       [ 1.41552342e-02,  4.30145402e-03, -6.24586492e-02,\n",
       "        -3.91114534e-02,  1.25374295e-02, -4.51112837e-03,\n",
       "        -2.76247310e-03,  8.86523379e-03,  7.23841467e-03,\n",
       "         9.57555909e-03,  9.57555909e-03, -9.83215152e-03,\n",
       "         1.40173258e-02,  1.08576911e-02, -3.90674183e-03,\n",
       "        -4.21024585e-01, -3.66552807e-01, -1.30783239e-01,\n",
       "         1.89865455e-01, -3.48381293e-01,  7.26340268e-01,\n",
       "        -4.80859404e-01,  1.88073306e-01,  2.05246531e-01,\n",
       "         2.36832742e-01, -1.06391325e-01, -1.66924877e-01,\n",
       "         2.97094626e-01,  2.00755572e-01,  1.87507631e-01,\n",
       "         1.64697015e-01,  4.16096103e-01, -1.33503413e-01,\n",
       "         3.40429827e-01,  1.82412499e-01, -1.19807790e-01,\n",
       "         3.44132558e-01,  2.22453885e-01,  1.79885977e-01,\n",
       "         2.68528794e-01,  1.31060612e-01, -2.09759111e-01,\n",
       "         2.40952591e-01,  2.88611439e-01,  9.57555909e-03,\n",
       "         6.26864301e-03,  1.35420061e-02,  1.02367163e-02,\n",
       "         5.11831908e-03]])"
      ]
     },
     "execution_count": 341,
     "metadata": {},
     "output_type": "execute_result"
    }
   ],
   "source": [
    "center"
   ]
  },
  {
   "cell_type": "markdown",
   "metadata": {},
   "source": [
    "Seeing which cluster centroids have the highest values for each numerical feature:"
   ]
  },
  {
   "cell_type": "code",
   "execution_count": 343,
   "metadata": {},
   "outputs": [],
   "source": [
    "#[0] = LINE_SRVC_CNT\n",
    "#[1] = BENE_DAY_SRVC_CNT\n",
    "#[2] = AVERAGE_MEDICARE_ALLOWED_AMT\n",
    "#[3] = AVERAGE_SUBMITTED_CHRG_AMT\n",
    "#[4-48] = zip codes\n",
    "\n",
    "max_line = max(center, key=lambda x:x[0])\n",
    "max_bene =  max(center, key=lambda x:x[1])\n",
    "max_medicare = max(center, key=lambda x:x[2])\n",
    "max_submitted = max(center, key=lambda x:x[3])"
   ]
  },
  {
   "cell_type": "code",
   "execution_count": 351,
   "metadata": {},
   "outputs": [
    {
     "data": {
      "text/plain": [
       "15"
      ]
     },
     "execution_count": 351,
     "metadata": {},
     "output_type": "execute_result"
    }
   ],
   "source": [
    "np.argmax(max_line)\n",
    "# index 15 corresponds to zip code 523\n",
    "# df_scaled.columns()[np.argmax(max_line)] # returns 'NPPES_PROVIDER_ZIP__523'"
   ]
  },
  {
   "cell_type": "code",
   "execution_count": 352,
   "metadata": {},
   "outputs": [
    {
     "data": {
      "text/plain": [
       "15"
      ]
     },
     "execution_count": 352,
     "metadata": {},
     "output_type": "execute_result"
    }
   ],
   "source": [
    "np.argmax(max_bene)\n",
    "# index 15 corresponds to zip code 523\n",
    "# df_scaled.columns()[np.argmax(max_bene)] # returns 'NPPES_PROVIDER_ZIP__523'"
   ]
  },
  {
   "cell_type": "code",
   "execution_count": 353,
   "metadata": {},
   "outputs": [
    {
     "data": {
      "text/plain": [
       "17"
      ]
     },
     "execution_count": 353,
     "metadata": {},
     "output_type": "execute_result"
    }
   ],
   "source": [
    "np.argmax(max_medicare)\n",
    "# index 17 corresponds to zip code 601\n",
    "# df_scaled.columns()[np.argmax(max_medicare)] # returns 'NPPES_PROVIDER_ZIP__601'"
   ]
  },
  {
   "cell_type": "code",
   "execution_count": 354,
   "metadata": {},
   "outputs": [
    {
     "data": {
      "text/plain": [
       "21"
      ]
     },
     "execution_count": 354,
     "metadata": {},
     "output_type": "execute_result"
    }
   ],
   "source": [
    "np.argmax(max_submitted)\n",
    "# index 21 corresponds to zip code 605\n",
    "# df_scaled.columns()[np.argmax(max_submitted)] # returns 'NPPES_PROVIDER_ZIP__605'"
   ]
  },
  {
   "cell_type": "code",
   "execution_count": null,
   "metadata": {},
   "outputs": [],
   "source": []
  }
 ],
 "metadata": {
  "kernelspec": {
   "display_name": "Python 3",
   "language": "python",
   "name": "python3"
  },
  "language_info": {
   "codemirror_mode": {
    "name": "ipython",
    "version": 3
   },
   "file_extension": ".py",
   "mimetype": "text/x-python",
   "name": "python",
   "nbconvert_exporter": "python",
   "pygments_lexer": "ipython3",
   "version": "3.7.2"
  }
 },
 "nbformat": 4,
 "nbformat_minor": 2
}
